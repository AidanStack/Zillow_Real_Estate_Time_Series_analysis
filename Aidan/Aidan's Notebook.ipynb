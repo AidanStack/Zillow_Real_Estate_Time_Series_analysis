{
 "cells": [
  {
   "cell_type": "markdown",
   "id": "3cdf88fc",
   "metadata": {},
   "source": [
    "# Zillow Real Estate Time Series Analysis "
   ]
  },
  {
   "cell_type": "markdown",
   "id": "d47cf080",
   "metadata": {},
   "source": [
    "## 1. Business Use Case and Project Overview "
   ]
  },
  {
   "cell_type": "markdown",
   "id": "8dde914b",
   "metadata": {},
   "source": [
    "## 2. Exploratory Data Analysis and Data Preparation"
   ]
  },
  {
   "cell_type": "markdown",
   "id": "b7355662",
   "metadata": {},
   "source": [
    "### 2.1 Importing the Necessary Libraries and packages"
   ]
  },
  {
   "cell_type": "code",
   "execution_count": 19,
   "id": "e3c9c822",
   "metadata": {},
   "outputs": [],
   "source": [
    "# Importing the relevant packages and libraries \n",
    "import numpy as np \n",
    "import pandas as pd \n",
    "import matplotlib\n",
    "import statsmodels.api as sm \n",
    "import matplotlib.pyplot as plt\n",
    "\n",
    "from statsmodels.tsa.arima.model import ARIMA\n",
    "from pmdarima.arima import auto_arima\n",
    "\n",
    "import warnings\n",
    "warnings.filterwarnings('ignore')"
   ]
  },
  {
   "cell_type": "markdown",
   "id": "bc45b37e",
   "metadata": {},
   "source": [
    "### 2.2 Importing the Zillow Data as a Pandas Dataframe"
   ]
  },
  {
   "cell_type": "code",
   "execution_count": 20,
   "id": "95c53bfd",
   "metadata": {
    "scrolled": true
   },
   "outputs": [
    {
     "name": "stdout",
     "output_type": "stream",
     "text": [
      "(14723, 272)\n",
      "There are 14723 distinct values in RegionName\n"
     ]
    },
    {
     "data": {
      "text/html": [
       "<div>\n",
       "<style scoped>\n",
       "    .dataframe tbody tr th:only-of-type {\n",
       "        vertical-align: middle;\n",
       "    }\n",
       "\n",
       "    .dataframe tbody tr th {\n",
       "        vertical-align: top;\n",
       "    }\n",
       "\n",
       "    .dataframe thead th {\n",
       "        text-align: right;\n",
       "    }\n",
       "</style>\n",
       "<table border=\"1\" class=\"dataframe\">\n",
       "  <thead>\n",
       "    <tr style=\"text-align: right;\">\n",
       "      <th></th>\n",
       "      <th>RegionID</th>\n",
       "      <th>RegionName</th>\n",
       "      <th>City</th>\n",
       "      <th>State</th>\n",
       "      <th>Metro</th>\n",
       "      <th>CountyName</th>\n",
       "      <th>SizeRank</th>\n",
       "      <th>1996-04</th>\n",
       "      <th>1996-05</th>\n",
       "      <th>1996-06</th>\n",
       "      <th>...</th>\n",
       "      <th>2017-07</th>\n",
       "      <th>2017-08</th>\n",
       "      <th>2017-09</th>\n",
       "      <th>2017-10</th>\n",
       "      <th>2017-11</th>\n",
       "      <th>2017-12</th>\n",
       "      <th>2018-01</th>\n",
       "      <th>2018-02</th>\n",
       "      <th>2018-03</th>\n",
       "      <th>2018-04</th>\n",
       "    </tr>\n",
       "  </thead>\n",
       "  <tbody>\n",
       "    <tr>\n",
       "      <th>0</th>\n",
       "      <td>84654</td>\n",
       "      <td>60657</td>\n",
       "      <td>Chicago</td>\n",
       "      <td>IL</td>\n",
       "      <td>Chicago</td>\n",
       "      <td>Cook</td>\n",
       "      <td>1</td>\n",
       "      <td>334200.0</td>\n",
       "      <td>335400.0</td>\n",
       "      <td>336500.0</td>\n",
       "      <td>...</td>\n",
       "      <td>1005500</td>\n",
       "      <td>1007500</td>\n",
       "      <td>1007800</td>\n",
       "      <td>1009600</td>\n",
       "      <td>1013300</td>\n",
       "      <td>1018700</td>\n",
       "      <td>1024400</td>\n",
       "      <td>1030700</td>\n",
       "      <td>1033800</td>\n",
       "      <td>1030600</td>\n",
       "    </tr>\n",
       "    <tr>\n",
       "      <th>1</th>\n",
       "      <td>90668</td>\n",
       "      <td>75070</td>\n",
       "      <td>McKinney</td>\n",
       "      <td>TX</td>\n",
       "      <td>Dallas-Fort Worth</td>\n",
       "      <td>Collin</td>\n",
       "      <td>2</td>\n",
       "      <td>235700.0</td>\n",
       "      <td>236900.0</td>\n",
       "      <td>236700.0</td>\n",
       "      <td>...</td>\n",
       "      <td>308000</td>\n",
       "      <td>310000</td>\n",
       "      <td>312500</td>\n",
       "      <td>314100</td>\n",
       "      <td>315000</td>\n",
       "      <td>316600</td>\n",
       "      <td>318100</td>\n",
       "      <td>319600</td>\n",
       "      <td>321100</td>\n",
       "      <td>321800</td>\n",
       "    </tr>\n",
       "    <tr>\n",
       "      <th>2</th>\n",
       "      <td>91982</td>\n",
       "      <td>77494</td>\n",
       "      <td>Katy</td>\n",
       "      <td>TX</td>\n",
       "      <td>Houston</td>\n",
       "      <td>Harris</td>\n",
       "      <td>3</td>\n",
       "      <td>210400.0</td>\n",
       "      <td>212200.0</td>\n",
       "      <td>212200.0</td>\n",
       "      <td>...</td>\n",
       "      <td>321000</td>\n",
       "      <td>320600</td>\n",
       "      <td>320200</td>\n",
       "      <td>320400</td>\n",
       "      <td>320800</td>\n",
       "      <td>321200</td>\n",
       "      <td>321200</td>\n",
       "      <td>323000</td>\n",
       "      <td>326900</td>\n",
       "      <td>329900</td>\n",
       "    </tr>\n",
       "    <tr>\n",
       "      <th>3</th>\n",
       "      <td>84616</td>\n",
       "      <td>60614</td>\n",
       "      <td>Chicago</td>\n",
       "      <td>IL</td>\n",
       "      <td>Chicago</td>\n",
       "      <td>Cook</td>\n",
       "      <td>4</td>\n",
       "      <td>498100.0</td>\n",
       "      <td>500900.0</td>\n",
       "      <td>503100.0</td>\n",
       "      <td>...</td>\n",
       "      <td>1289800</td>\n",
       "      <td>1287700</td>\n",
       "      <td>1287400</td>\n",
       "      <td>1291500</td>\n",
       "      <td>1296600</td>\n",
       "      <td>1299000</td>\n",
       "      <td>1302700</td>\n",
       "      <td>1306400</td>\n",
       "      <td>1308500</td>\n",
       "      <td>1307000</td>\n",
       "    </tr>\n",
       "    <tr>\n",
       "      <th>4</th>\n",
       "      <td>93144</td>\n",
       "      <td>79936</td>\n",
       "      <td>El Paso</td>\n",
       "      <td>TX</td>\n",
       "      <td>El Paso</td>\n",
       "      <td>El Paso</td>\n",
       "      <td>5</td>\n",
       "      <td>77300.0</td>\n",
       "      <td>77300.0</td>\n",
       "      <td>77300.0</td>\n",
       "      <td>...</td>\n",
       "      <td>119100</td>\n",
       "      <td>119400</td>\n",
       "      <td>120000</td>\n",
       "      <td>120300</td>\n",
       "      <td>120300</td>\n",
       "      <td>120300</td>\n",
       "      <td>120300</td>\n",
       "      <td>120500</td>\n",
       "      <td>121000</td>\n",
       "      <td>121500</td>\n",
       "    </tr>\n",
       "  </tbody>\n",
       "</table>\n",
       "<p>5 rows × 272 columns</p>\n",
       "</div>"
      ],
      "text/plain": [
       "   RegionID  RegionName      City State              Metro CountyName  \\\n",
       "0     84654       60657   Chicago    IL            Chicago       Cook   \n",
       "1     90668       75070  McKinney    TX  Dallas-Fort Worth     Collin   \n",
       "2     91982       77494      Katy    TX            Houston     Harris   \n",
       "3     84616       60614   Chicago    IL            Chicago       Cook   \n",
       "4     93144       79936   El Paso    TX            El Paso    El Paso   \n",
       "\n",
       "   SizeRank   1996-04   1996-05   1996-06  ...  2017-07  2017-08  2017-09  \\\n",
       "0         1  334200.0  335400.0  336500.0  ...  1005500  1007500  1007800   \n",
       "1         2  235700.0  236900.0  236700.0  ...   308000   310000   312500   \n",
       "2         3  210400.0  212200.0  212200.0  ...   321000   320600   320200   \n",
       "3         4  498100.0  500900.0  503100.0  ...  1289800  1287700  1287400   \n",
       "4         5   77300.0   77300.0   77300.0  ...   119100   119400   120000   \n",
       "\n",
       "   2017-10  2017-11  2017-12  2018-01  2018-02  2018-03  2018-04  \n",
       "0  1009600  1013300  1018700  1024400  1030700  1033800  1030600  \n",
       "1   314100   315000   316600   318100   319600   321100   321800  \n",
       "2   320400   320800   321200   321200   323000   326900   329900  \n",
       "3  1291500  1296600  1299000  1302700  1306400  1308500  1307000  \n",
       "4   120300   120300   120300   120300   120500   121000   121500  \n",
       "\n",
       "[5 rows x 272 columns]"
      ]
     },
     "execution_count": 20,
     "metadata": {},
     "output_type": "execute_result"
    }
   ],
   "source": [
    "# Importing the data from the csv \n",
    "df = pd.read_csv('Data/zillow_data.csv')\n",
    "\n",
    "# Taking a look at the shape of the dataset\n",
    "print(df.shape)\n",
    "\n",
    "# This line will tell us if there are any rows where RegionName repeats\n",
    "print(f'There are {len(df[\"RegionName\"].value_counts())} distinct values in RegionName')\n",
    "\n",
    "# Examining the first five rows of our dataframe\n",
    "df.head()"
   ]
  },
  {
   "cell_type": "markdown",
   "id": "ba7735b3",
   "metadata": {},
   "source": [
    "In an analysis process where our goal is to find the five zipcodes most ripe for investment, we had an obvious first question looking at this dataframe: which five digit number represents the zipcode? RegionID or RegionName? Some quick google searches of which County and State certain zipcodes were in told us that RegionName is the column this dataset uses to store each zipcode. We determined this from several google searches including ones like this:\n",
    "\n",
    "<img src='Data/zipcode_example.jpg' style='width:300px;height:200px'/>\n",
    "\n",
    "We also know from looking at the length of our value count list, that no zipcode shows up more than once, because the length of our value count list is equal to the length of our entire dataframe. "
   ]
  },
  {
   "cell_type": "markdown",
   "id": "ab309c85",
   "metadata": {
    "scrolled": false
   },
   "source": [
    "### 2.3 Zipcodes by State\n",
    "\n",
    "The United States has 41,692 zipcodes, and we only have 14,723 here. We wanted to find out if these zipcodes overrepresented certain regions of the country. To do this we compared the bar chart below, which tracks how many zipcodes from our dataset belong to each state, with the second chart which looks at the population of each state. "
   ]
  },
  {
   "cell_type": "code",
   "execution_count": 21,
   "id": "75feea09",
   "metadata": {
    "scrolled": true
   },
   "outputs": [
    {
     "data": {
      "image/png": "[encoded data removed]",
      "text/plain": [
       "<Figure size 1440x360 with 1 Axes>"
      ]
     },
     "metadata": {
      "needs_background": "light"
     },
     "output_type": "display_data"
    }
   ],
   "source": [
    "# Making a pandas series that lists the number of zipcodes in each state\n",
    "states = df.State.value_counts()\n",
    "\n",
    "# Visualizing the series \n",
    "fig1, ax1 = plt.subplots(figsize=(20, 5))\n",
    "plt.bar(states.index, states)\n",
    "plt.title('Count of Houses in our Dataset by State')\n",
    "plt.xlabel('State')\n",
    "plt.ylabel('Count');"
   ]
  },
  {
   "cell_type": "code",
   "execution_count": 22,
   "id": "c8b4bd88",
   "metadata": {
    "scrolled": false
   },
   "outputs": [
    {
     "data": {
      "image/png": "[encoded data removed]",
      "text/plain": [
       "<Figure size 1440x360 with 1 Axes>"
      ]
     },
     "metadata": {
      "needs_background": "light"
     },
     "output_type": "display_data"
    }
   ],
   "source": [
    "# This dataframe will allow us to translate state names into their two letter codes\n",
    "code_df = pd.read_csv('Data/state_codes.csv', names=['State', 'Code']).dropna()\n",
    "\n",
    "# Turning the relevant columns into a dictionary for easy use \n",
    "code_dict = dict(zip(code_df['State'], code_df['Code']))\n",
    "   \n",
    "# Importing the state population data from the csv we downloaded\n",
    "population = pd.read_csv('Data/State Populations.csv')\n",
    "\n",
    "# Making an ordered list of state codes to us in our bar chart \n",
    "state_codes = [code_dict[i] for i in population['State']]\n",
    "\n",
    "# Plotting the bar chart\n",
    "fig, ax = plt.subplots(figsize=(20, 5))\n",
    "plt.bar(state_codes, population['Pop'], color='green')\n",
    "plt.title('Population by State - 2021')\n",
    "plt.xlabel('State')\n",
    "plt.ylabel('Population - Tens of Millions')\n",
    "plt.show()"
   ]
  },
  {
   "cell_type": "markdown",
   "id": "946049a9",
   "metadata": {},
   "source": [
    "While some of the states rank slightly differently, the similarity between the two graphs tell us that the zipcodes in this dataset are largely representative of the population distribution of the United States. "
   ]
  },
  {
   "cell_type": "markdown",
   "id": "1aefa598",
   "metadata": {},
   "source": [
    "### 2.4 Price Distribution "
   ]
  },
  {
   "cell_type": "code",
   "execution_count": 23,
   "id": "b4c023a5",
   "metadata": {},
   "outputs": [],
   "source": [
    "df_ny = df[df['State'] == 'NY']"
   ]
  },
  {
   "cell_type": "code",
   "execution_count": 24,
   "id": "2c4e3f6a",
   "metadata": {},
   "outputs": [
    {
     "data": {
      "text/html": [
       "<div>\n",
       "<style scoped>\n",
       "    .dataframe tbody tr th:only-of-type {\n",
       "        vertical-align: middle;\n",
       "    }\n",
       "\n",
       "    .dataframe tbody tr th {\n",
       "        vertical-align: top;\n",
       "    }\n",
       "\n",
       "    .dataframe thead th {\n",
       "        text-align: right;\n",
       "    }\n",
       "</style>\n",
       "<table border=\"1\" class=\"dataframe\">\n",
       "  <thead>\n",
       "    <tr style=\"text-align: right;\">\n",
       "      <th></th>\n",
       "      <th>RegionID</th>\n",
       "      <th>RegionName</th>\n",
       "      <th>City</th>\n",
       "      <th>State</th>\n",
       "      <th>Metro</th>\n",
       "      <th>CountyName</th>\n",
       "      <th>SizeRank</th>\n",
       "      <th>1996-04</th>\n",
       "      <th>1996-05</th>\n",
       "      <th>1996-06</th>\n",
       "      <th>...</th>\n",
       "      <th>2017-07</th>\n",
       "      <th>2017-08</th>\n",
       "      <th>2017-09</th>\n",
       "      <th>2017-10</th>\n",
       "      <th>2017-11</th>\n",
       "      <th>2017-12</th>\n",
       "      <th>2018-01</th>\n",
       "      <th>2018-02</th>\n",
       "      <th>2018-03</th>\n",
       "      <th>2018-04</th>\n",
       "    </tr>\n",
       "  </thead>\n",
       "  <tbody>\n",
       "    <tr>\n",
       "      <th>6</th>\n",
       "      <td>61807</td>\n",
       "      <td>10467</td>\n",
       "      <td>New York</td>\n",
       "      <td>NY</td>\n",
       "      <td>New York</td>\n",
       "      <td>Bronx</td>\n",
       "      <td>7</td>\n",
       "      <td>152900.0</td>\n",
       "      <td>152700.0</td>\n",
       "      <td>152600.0</td>\n",
       "      <td>...</td>\n",
       "      <td>394400</td>\n",
       "      <td>400000</td>\n",
       "      <td>407300</td>\n",
       "      <td>411600</td>\n",
       "      <td>413200</td>\n",
       "      <td>414300</td>\n",
       "      <td>413900</td>\n",
       "      <td>411400</td>\n",
       "      <td>413200</td>\n",
       "      <td>417900</td>\n",
       "    </tr>\n",
       "    <tr>\n",
       "      <th>10</th>\n",
       "      <td>62037</td>\n",
       "      <td>11226</td>\n",
       "      <td>New York</td>\n",
       "      <td>NY</td>\n",
       "      <td>New York</td>\n",
       "      <td>Kings</td>\n",
       "      <td>11</td>\n",
       "      <td>162000.0</td>\n",
       "      <td>162300.0</td>\n",
       "      <td>162600.0</td>\n",
       "      <td>...</td>\n",
       "      <td>860200</td>\n",
       "      <td>851000</td>\n",
       "      <td>853900</td>\n",
       "      <td>870000</td>\n",
       "      <td>885100</td>\n",
       "      <td>887800</td>\n",
       "      <td>890500</td>\n",
       "      <td>901700</td>\n",
       "      <td>930700</td>\n",
       "      <td>963200</td>\n",
       "    </tr>\n",
       "    <tr>\n",
       "      <th>12</th>\n",
       "      <td>62087</td>\n",
       "      <td>11375</td>\n",
       "      <td>New York</td>\n",
       "      <td>NY</td>\n",
       "      <td>New York</td>\n",
       "      <td>Queens</td>\n",
       "      <td>13</td>\n",
       "      <td>252400.0</td>\n",
       "      <td>251800.0</td>\n",
       "      <td>251400.0</td>\n",
       "      <td>...</td>\n",
       "      <td>1022600</td>\n",
       "      <td>1033700</td>\n",
       "      <td>1048600</td>\n",
       "      <td>1066400</td>\n",
       "      <td>1081200</td>\n",
       "      <td>1088800</td>\n",
       "      <td>1092700</td>\n",
       "      <td>1089500</td>\n",
       "      <td>1084000</td>\n",
       "      <td>1084600</td>\n",
       "    </tr>\n",
       "    <tr>\n",
       "      <th>13</th>\n",
       "      <td>62045</td>\n",
       "      <td>11235</td>\n",
       "      <td>New York</td>\n",
       "      <td>NY</td>\n",
       "      <td>New York</td>\n",
       "      <td>Kings</td>\n",
       "      <td>14</td>\n",
       "      <td>190500.0</td>\n",
       "      <td>191000.0</td>\n",
       "      <td>191500.0</td>\n",
       "      <td>...</td>\n",
       "      <td>767300</td>\n",
       "      <td>777300</td>\n",
       "      <td>788800</td>\n",
       "      <td>793900</td>\n",
       "      <td>796000</td>\n",
       "      <td>799700</td>\n",
       "      <td>806600</td>\n",
       "      <td>810600</td>\n",
       "      <td>813400</td>\n",
       "      <td>816200</td>\n",
       "    </tr>\n",
       "    <tr>\n",
       "      <th>20</th>\n",
       "      <td>61625</td>\n",
       "      <td>10011</td>\n",
       "      <td>New York</td>\n",
       "      <td>NY</td>\n",
       "      <td>New York</td>\n",
       "      <td>New York</td>\n",
       "      <td>21</td>\n",
       "      <td>NaN</td>\n",
       "      <td>NaN</td>\n",
       "      <td>NaN</td>\n",
       "      <td>...</td>\n",
       "      <td>12137600</td>\n",
       "      <td>12112600</td>\n",
       "      <td>12036600</td>\n",
       "      <td>12050100</td>\n",
       "      <td>12016300</td>\n",
       "      <td>11946500</td>\n",
       "      <td>11978100</td>\n",
       "      <td>11849300</td>\n",
       "      <td>11563000</td>\n",
       "      <td>11478300</td>\n",
       "    </tr>\n",
       "    <tr>\n",
       "      <th>...</th>\n",
       "      <td>...</td>\n",
       "      <td>...</td>\n",
       "      <td>...</td>\n",
       "      <td>...</td>\n",
       "      <td>...</td>\n",
       "      <td>...</td>\n",
       "      <td>...</td>\n",
       "      <td>...</td>\n",
       "      <td>...</td>\n",
       "      <td>...</td>\n",
       "      <td>...</td>\n",
       "      <td>...</td>\n",
       "      <td>...</td>\n",
       "      <td>...</td>\n",
       "      <td>...</td>\n",
       "      <td>...</td>\n",
       "      <td>...</td>\n",
       "      <td>...</td>\n",
       "      <td>...</td>\n",
       "      <td>...</td>\n",
       "      <td>...</td>\n",
       "    </tr>\n",
       "    <tr>\n",
       "      <th>14663</th>\n",
       "      <td>62430</td>\n",
       "      <td>12153</td>\n",
       "      <td>Sand Lake</td>\n",
       "      <td>NY</td>\n",
       "      <td>Albany</td>\n",
       "      <td>Rensselaer</td>\n",
       "      <td>14664</td>\n",
       "      <td>95700.0</td>\n",
       "      <td>95000.0</td>\n",
       "      <td>94300.0</td>\n",
       "      <td>...</td>\n",
       "      <td>191000</td>\n",
       "      <td>191700</td>\n",
       "      <td>192000</td>\n",
       "      <td>193100</td>\n",
       "      <td>195400</td>\n",
       "      <td>198300</td>\n",
       "      <td>200500</td>\n",
       "      <td>202600</td>\n",
       "      <td>205200</td>\n",
       "      <td>207300</td>\n",
       "    </tr>\n",
       "    <tr>\n",
       "      <th>14693</th>\n",
       "      <td>62433</td>\n",
       "      <td>12156</td>\n",
       "      <td>Schodack</td>\n",
       "      <td>NY</td>\n",
       "      <td>Albany</td>\n",
       "      <td>Rensselaer</td>\n",
       "      <td>14694</td>\n",
       "      <td>94400.0</td>\n",
       "      <td>94600.0</td>\n",
       "      <td>94800.0</td>\n",
       "      <td>...</td>\n",
       "      <td>188600</td>\n",
       "      <td>189800</td>\n",
       "      <td>189600</td>\n",
       "      <td>190500</td>\n",
       "      <td>191100</td>\n",
       "      <td>192000</td>\n",
       "      <td>193600</td>\n",
       "      <td>196100</td>\n",
       "      <td>198000</td>\n",
       "      <td>199400</td>\n",
       "    </tr>\n",
       "    <tr>\n",
       "      <th>14702</th>\n",
       "      <td>62599</td>\n",
       "      <td>12480</td>\n",
       "      <td>Shandaken</td>\n",
       "      <td>NY</td>\n",
       "      <td>Kingston</td>\n",
       "      <td>Ulster</td>\n",
       "      <td>14703</td>\n",
       "      <td>70900.0</td>\n",
       "      <td>70400.0</td>\n",
       "      <td>70000.0</td>\n",
       "      <td>...</td>\n",
       "      <td>160100</td>\n",
       "      <td>160600</td>\n",
       "      <td>160500</td>\n",
       "      <td>160100</td>\n",
       "      <td>159900</td>\n",
       "      <td>159000</td>\n",
       "      <td>157000</td>\n",
       "      <td>157700</td>\n",
       "      <td>161000</td>\n",
       "      <td>163700</td>\n",
       "    </tr>\n",
       "    <tr>\n",
       "      <th>14715</th>\n",
       "      <td>62556</td>\n",
       "      <td>12429</td>\n",
       "      <td>Esopus</td>\n",
       "      <td>NY</td>\n",
       "      <td>Kingston</td>\n",
       "      <td>Ulster</td>\n",
       "      <td>14716</td>\n",
       "      <td>78300.0</td>\n",
       "      <td>78300.0</td>\n",
       "      <td>78200.0</td>\n",
       "      <td>...</td>\n",
       "      <td>164200</td>\n",
       "      <td>166600</td>\n",
       "      <td>170000</td>\n",
       "      <td>171000</td>\n",
       "      <td>170700</td>\n",
       "      <td>171300</td>\n",
       "      <td>172400</td>\n",
       "      <td>173600</td>\n",
       "      <td>175800</td>\n",
       "      <td>177500</td>\n",
       "    </tr>\n",
       "    <tr>\n",
       "      <th>14717</th>\n",
       "      <td>62697</td>\n",
       "      <td>12720</td>\n",
       "      <td>Bethel</td>\n",
       "      <td>NY</td>\n",
       "      <td>NaN</td>\n",
       "      <td>Sullivan</td>\n",
       "      <td>14718</td>\n",
       "      <td>62500.0</td>\n",
       "      <td>62600.0</td>\n",
       "      <td>62700.0</td>\n",
       "      <td>...</td>\n",
       "      <td>122200</td>\n",
       "      <td>122700</td>\n",
       "      <td>122300</td>\n",
       "      <td>122000</td>\n",
       "      <td>122200</td>\n",
       "      <td>122800</td>\n",
       "      <td>123200</td>\n",
       "      <td>123200</td>\n",
       "      <td>120700</td>\n",
       "      <td>117700</td>\n",
       "    </tr>\n",
       "  </tbody>\n",
       "</table>\n",
       "<p>1015 rows × 272 columns</p>\n",
       "</div>"
      ],
      "text/plain": [
       "       RegionID  RegionName       City State     Metro  CountyName  SizeRank  \\\n",
       "6         61807       10467   New York    NY  New York       Bronx         7   \n",
       "10        62037       11226   New York    NY  New York       Kings        11   \n",
       "12        62087       11375   New York    NY  New York      Queens        13   \n",
       "13        62045       11235   New York    NY  New York       Kings        14   \n",
       "20        61625       10011   New York    NY  New York    New York        21   \n",
       "...         ...         ...        ...   ...       ...         ...       ...   \n",
       "14663     62430       12153  Sand Lake    NY    Albany  Rensselaer     14664   \n",
       "14693     62433       12156   Schodack    NY    Albany  Rensselaer     14694   \n",
       "14702     62599       12480  Shandaken    NY  Kingston      Ulster     14703   \n",
       "14715     62556       12429     Esopus    NY  Kingston      Ulster     14716   \n",
       "14717     62697       12720     Bethel    NY       NaN    Sullivan     14718   \n",
       "\n",
       "        1996-04   1996-05   1996-06  ...   2017-07   2017-08   2017-09  \\\n",
       "6      152900.0  152700.0  152600.0  ...    394400    400000    407300   \n",
       "10     162000.0  162300.0  162600.0  ...    860200    851000    853900   \n",
       "12     252400.0  251800.0  251400.0  ...   1022600   1033700   1048600   \n",
       "13     190500.0  191000.0  191500.0  ...    767300    777300    788800   \n",
       "20          NaN       NaN       NaN  ...  12137600  12112600  12036600   \n",
       "...         ...       ...       ...  ...       ...       ...       ...   \n",
       "14663   95700.0   95000.0   94300.0  ...    191000    191700    192000   \n",
       "14693   94400.0   94600.0   94800.0  ...    188600    189800    189600   \n",
       "14702   70900.0   70400.0   70000.0  ...    160100    160600    160500   \n",
       "14715   78300.0   78300.0   78200.0  ...    164200    166600    170000   \n",
       "14717   62500.0   62600.0   62700.0  ...    122200    122700    122300   \n",
       "\n",
       "        2017-10   2017-11   2017-12   2018-01   2018-02   2018-03   2018-04  \n",
       "6        411600    413200    414300    413900    411400    413200    417900  \n",
       "10       870000    885100    887800    890500    901700    930700    963200  \n",
       "12      1066400   1081200   1088800   1092700   1089500   1084000   1084600  \n",
       "13       793900    796000    799700    806600    810600    813400    816200  \n",
       "20     12050100  12016300  11946500  11978100  11849300  11563000  11478300  \n",
       "...         ...       ...       ...       ...       ...       ...       ...  \n",
       "14663    193100    195400    198300    200500    202600    205200    207300  \n",
       "14693    190500    191100    192000    193600    196100    198000    199400  \n",
       "14702    160100    159900    159000    157000    157700    161000    163700  \n",
       "14715    171000    170700    171300    172400    173600    175800    177500  \n",
       "14717    122000    122200    122800    123200    123200    120700    117700  \n",
       "\n",
       "[1015 rows x 272 columns]"
      ]
     },
     "execution_count": 24,
     "metadata": {},
     "output_type": "execute_result"
    }
   ],
   "source": [
    "df_ny"
   ]
  },
  {
   "cell_type": "markdown",
   "id": "c9d1c635",
   "metadata": {},
   "source": [
    "### 2.5 Melt Data Function "
   ]
  },
  {
   "cell_type": "code",
   "execution_count": 25,
   "id": "aeceabf3",
   "metadata": {},
   "outputs": [],
   "source": [
    "# This function was provided for us with the dataset at the beginning of this project\n",
    "def melt_data(df):\n",
    "    \"\"\"\n",
    "    Takes the zillow_data dataset in wide form or a subset of the zillow_dataset.  \n",
    "    Returns a long-form datetime dataframe \n",
    "    with the datetime column names as the index and the values as the 'values' column.\n",
    "    \n",
    "    If more than one row is passes in the wide-form dataset, the values column\n",
    "    will be the mean of the values from the datetime columns in all of the rows.\n",
    "    \"\"\"\n",
    "    \n",
    "    melted = pd.melt(df, id_vars=['RegionName', 'RegionID', 'SizeRank', 'City', 'State', 'Metro', 'CountyName'], var_name='time')\n",
    "    melted['time'] = pd.to_datetime(melted['time'], infer_datetime_format=True)\n",
    "    melted = melted.dropna(subset=['value'])\n",
    "    return melted.groupby('time').aggregate({'value':'mean'})"
   ]
  },
  {
   "cell_type": "code",
   "execution_count": 26,
   "id": "d5240896",
   "metadata": {},
   "outputs": [],
   "source": [
    "df_melted = melt_data(df)"
   ]
  },
  {
   "cell_type": "code",
   "execution_count": 27,
   "id": "ac0f098a",
   "metadata": {},
   "outputs": [
    {
     "data": {
      "text/plain": [
       "<AxesSubplot:xlabel='time'>"
      ]
     },
     "execution_count": 27,
     "metadata": {},
     "output_type": "execute_result"
    },
    {
     "data": {
      "image/png": "[encoded data removed]",
      "text/plain": [
       "<Figure size 432x288 with 1 Axes>"
      ]
     },
     "metadata": {
      "needs_background": "light"
     },
     "output_type": "display_data"
    }
   ],
   "source": [
    "# Plotting the average value of all the rows as a single time series \n",
    "df_melted.plot()"
   ]
  },
  {
   "cell_type": "markdown",
   "id": "b95fe38e",
   "metadata": {},
   "source": [
    "## 3. Modeling "
   ]
  },
  {
   "cell_type": "code",
   "execution_count": 28,
   "id": "7b68514d",
   "metadata": {
    "scrolled": true
   },
   "outputs": [
    {
     "data": {
      "text/plain": [
       "<AxesSubplot:xlabel='time'>"
      ]
     },
     "execution_count": 28,
     "metadata": {},
     "output_type": "execute_result"
    },
    {
     "data": {
      "image/png": "[encoded data removed]",
      "text/plain": [
       "<Figure size 432x288 with 1 Axes>"
      ]
     },
     "metadata": {
      "needs_background": "light"
     },
     "output_type": "display_data"
    }
   ],
   "source": [
    "test_row = pd.DataFrame(df_ny.iloc[45:46])\n",
    "\n",
    "test_melted = melt_data(test_row)\n",
    "\n",
    "test_melted.plot()"
   ]
  },
  {
   "cell_type": "code",
   "execution_count": 29,
   "id": "abe71aab",
   "metadata": {},
   "outputs": [],
   "source": [
    "results = auto_arima(test_melted, \n",
    "           start_p = 0,\n",
    "           max_p = 5,\n",
    "           d = 0, \n",
    "           max_d = 3, \n",
    "           start_q = 0,\n",
    "           max_q = 5,\n",
    "           seasonal=False,\n",
    "           m = 12,\n",
    "           suppress_warnings=True)"
   ]
  },
  {
   "cell_type": "code",
   "execution_count": 30,
   "id": "d2d7bff2",
   "metadata": {},
   "outputs": [],
   "source": [
    "test_model = ARIMA(test_melted, order=results.order, seasonal_order=results.seasonal_order)\n",
    "test_output = test_model.fit()\n",
    "# test_output.summary()"
   ]
  },
  {
   "cell_type": "code",
   "execution_count": 32,
   "id": "29ef1944",
   "metadata": {},
   "outputs": [
    {
     "data": {
      "text/html": [
       "<div>\n",
       "<style scoped>\n",
       "    .dataframe tbody tr th:only-of-type {\n",
       "        vertical-align: middle;\n",
       "    }\n",
       "\n",
       "    .dataframe tbody tr th {\n",
       "        vertical-align: top;\n",
       "    }\n",
       "\n",
       "    .dataframe thead th {\n",
       "        text-align: right;\n",
       "    }\n",
       "</style>\n",
       "<table border=\"1\" class=\"dataframe\">\n",
       "  <thead>\n",
       "    <tr style=\"text-align: right;\">\n",
       "      <th></th>\n",
       "      <th>value</th>\n",
       "    </tr>\n",
       "    <tr>\n",
       "      <th>time</th>\n",
       "      <th></th>\n",
       "    </tr>\n",
       "  </thead>\n",
       "  <tbody>\n",
       "    <tr>\n",
       "      <th>1996-04-01</th>\n",
       "      <td>180500.0</td>\n",
       "    </tr>\n",
       "    <tr>\n",
       "      <th>1996-05-01</th>\n",
       "      <td>180400.0</td>\n",
       "    </tr>\n",
       "    <tr>\n",
       "      <th>1996-06-01</th>\n",
       "      <td>180400.0</td>\n",
       "    </tr>\n",
       "    <tr>\n",
       "      <th>1996-07-01</th>\n",
       "      <td>180300.0</td>\n",
       "    </tr>\n",
       "    <tr>\n",
       "      <th>1996-08-01</th>\n",
       "      <td>180100.0</td>\n",
       "    </tr>\n",
       "    <tr>\n",
       "      <th>...</th>\n",
       "      <td>...</td>\n",
       "    </tr>\n",
       "    <tr>\n",
       "      <th>2017-12-01</th>\n",
       "      <td>430600.0</td>\n",
       "    </tr>\n",
       "    <tr>\n",
       "      <th>2018-01-01</th>\n",
       "      <td>430000.0</td>\n",
       "    </tr>\n",
       "    <tr>\n",
       "      <th>2018-02-01</th>\n",
       "      <td>427300.0</td>\n",
       "    </tr>\n",
       "    <tr>\n",
       "      <th>2018-03-01</th>\n",
       "      <td>422200.0</td>\n",
       "    </tr>\n",
       "    <tr>\n",
       "      <th>2018-04-01</th>\n",
       "      <td>418900.0</td>\n",
       "    </tr>\n",
       "  </tbody>\n",
       "</table>\n",
       "<p>265 rows × 1 columns</p>\n",
       "</div>"
      ],
      "text/plain": [
       "               value\n",
       "time                \n",
       "1996-04-01  180500.0\n",
       "1996-05-01  180400.0\n",
       "1996-06-01  180400.0\n",
       "1996-07-01  180300.0\n",
       "1996-08-01  180100.0\n",
       "...              ...\n",
       "2017-12-01  430600.0\n",
       "2018-01-01  430000.0\n",
       "2018-02-01  427300.0\n",
       "2018-03-01  422200.0\n",
       "2018-04-01  418900.0\n",
       "\n",
       "[265 rows x 1 columns]"
      ]
     },
     "execution_count": 32,
     "metadata": {},
     "output_type": "execute_result"
    }
   ],
   "source": [
    "test_melted"
   ]
  },
  {
   "cell_type": "code",
   "execution_count": 43,
   "id": "82431a4d",
   "metadata": {},
   "outputs": [],
   "source": [
    "test_forecast = test_output.predict('1997-01-01', '2018-01-01')\n",
    "\n",
    "year_2000 = test_melted['1997-01-01': '2018-01-01']"
   ]
  },
  {
   "cell_type": "code",
   "execution_count": 44,
   "id": "074b31b8",
   "metadata": {},
   "outputs": [
    {
     "data": {
      "text/plain": [
       "[<matplotlib.lines.Line2D at 0x16f49cf10>]"
      ]
     },
     "execution_count": 44,
     "metadata": {},
     "output_type": "execute_result"
    },
    {
     "data": {
      "image/png": "[encoded data removed]",
      "text/plain": [
       "<Figure size 1440x720 with 1 Axes>"
      ]
     },
     "metadata": {
      "needs_background": "light"
     },
     "output_type": "display_data"
    }
   ],
   "source": [
    "fig, ax = plt.subplots(figsize=(20,10))\n",
    "\n",
    "plt.plot(test_forecast)\n",
    "plt.plot(year_2000)"
   ]
  },
  {
   "cell_type": "code",
   "execution_count": null,
   "id": "d8c5d816",
   "metadata": {},
   "outputs": [],
   "source": []
  },
  {
   "cell_type": "code",
   "execution_count": null,
   "id": "fde56957",
   "metadata": {},
   "outputs": [],
   "source": []
  },
  {
   "cell_type": "code",
   "execution_count": null,
   "id": "6d3c7da4",
   "metadata": {},
   "outputs": [],
   "source": []
  },
  {
   "cell_type": "code",
   "execution_count": null,
   "id": "97443088",
   "metadata": {},
   "outputs": [],
   "source": []
  },
  {
   "cell_type": "code",
   "execution_count": null,
   "id": "5dff700a",
   "metadata": {},
   "outputs": [],
   "source": []
  },
  {
   "cell_type": "code",
   "execution_count": null,
   "id": "b4de524a",
   "metadata": {},
   "outputs": [],
   "source": []
  },
  {
   "cell_type": "code",
   "execution_count": null,
   "id": "baee087a",
   "metadata": {},
   "outputs": [],
   "source": []
  },
  {
   "cell_type": "code",
   "execution_count": null,
   "id": "86985bc4",
   "metadata": {},
   "outputs": [],
   "source": []
  }
 ],
 "metadata": {
  "kernelspec": {
   "display_name": "Python 3 (ipykernel)",
   "language": "python",
   "name": "python3"
  },
  "language_info": {
   "codemirror_mode": {
    "name": "ipython",
    "version": 3
   },
   "file_extension": ".py",
   "mimetype": "text/x-python",
   "name": "python",
   "nbconvert_exporter": "python",
   "pygments_lexer": "ipython3",
   "version": "3.9.7"
  }
 },
 "nbformat": 4,
 "nbformat_minor": 5
}
