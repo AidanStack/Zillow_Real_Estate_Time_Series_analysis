{
 "cells": [
  {
   "cell_type": "markdown",
   "id": "3cdf88fc",
   "metadata": {},
   "source": [
    "# Zillow Real Estate Time Series Analysis "
   ]
  },
  {
   "cell_type": "markdown",
   "id": "d47cf080",
   "metadata": {},
   "source": [
    "## 1. Business Use Case and Project Overview \n",
    "\n",
    "Our client has hired us to analize data from all over the State of New York to determine which five metro areas are the best choice for real estate investment. Our data comes from zillow, and tracks the median home price for many of the country's major metro areas. These metro areas are denoted by zillows internal 'Msa' designation, which stands for 'Metropolitan Statistical Area', meaning there are more than 50,000 people living in an urbanized area. "
   ]
  },
  {
   "cell_type": "markdown",
   "id": "8dde914b",
   "metadata": {},
   "source": [
    "## 2. Exploratory Data Analysis and Data Preparation"
   ]
  },
  {
   "cell_type": "markdown",
   "id": "b7355662",
   "metadata": {},
   "source": [
    "### 2.1 Importing the Necessary Libraries and packages"
   ]
  },
  {
   "cell_type": "code",
   "execution_count": 1,
   "id": "e3c9c822",
   "metadata": {},
   "outputs": [],
   "source": [
    "# Importing the relevant packages and libraries \n",
    "import numpy as np \n",
    "import pandas as pd \n",
    "import matplotlib\n",
    "import statsmodels.api as sm \n",
    "import matplotlib.pyplot as plt\n",
    "pd.set_option('display.max_rows', None)\n",
    "\n",
    "from statsmodels.tsa.stattools import adfuller\n",
    "from statsmodels.tsa.arima.model import ARIMA\n",
    "from statsmodels.tsa.statespace.sarimax import SARIMAX\n",
    "from pmdarima.arima import auto_arima\n",
    "\n",
    "import warnings\n",
    "warnings.filterwarnings('ignore')"
   ]
  },
  {
   "cell_type": "markdown",
   "id": "bc45b37e",
   "metadata": {},
   "source": [
    "### 2.2 Importing the Zillow Data as a Pandas Dataframe"
   ]
  },
  {
   "cell_type": "code",
   "execution_count": 2,
   "id": "95c53bfd",
   "metadata": {
    "scrolled": true
   },
   "outputs": [
    {
     "name": "stdout",
     "output_type": "stream",
     "text": [
      "(909, 266)\n",
      "Msa        908\n",
      "Country      1\n",
      "Name: RegionType, dtype: int64\n"
     ]
    },
    {
     "data": {
      "text/html": [
       "<div>\n",
       "<style scoped>\n",
       "    .dataframe tbody tr th:only-of-type {\n",
       "        vertical-align: middle;\n",
       "    }\n",
       "\n",
       "    .dataframe tbody tr th {\n",
       "        vertical-align: top;\n",
       "    }\n",
       "\n",
       "    .dataframe thead th {\n",
       "        text-align: right;\n",
       "    }\n",
       "</style>\n",
       "<table border=\"1\" class=\"dataframe\">\n",
       "  <thead>\n",
       "    <tr style=\"text-align: right;\">\n",
       "      <th></th>\n",
       "      <th>RegionID</th>\n",
       "      <th>SizeRank</th>\n",
       "      <th>RegionName</th>\n",
       "      <th>RegionType</th>\n",
       "      <th>StateName</th>\n",
       "      <th>2000-01-31</th>\n",
       "      <th>2000-02-29</th>\n",
       "      <th>2000-03-31</th>\n",
       "      <th>2000-04-30</th>\n",
       "      <th>2000-05-31</th>\n",
       "      <th>...</th>\n",
       "      <th>2020-12-31</th>\n",
       "      <th>2021-01-31</th>\n",
       "      <th>2021-02-28</th>\n",
       "      <th>2021-03-31</th>\n",
       "      <th>2021-04-30</th>\n",
       "      <th>2021-05-31</th>\n",
       "      <th>2021-06-30</th>\n",
       "      <th>2021-07-31</th>\n",
       "      <th>2021-08-31</th>\n",
       "      <th>2021-09-30</th>\n",
       "    </tr>\n",
       "  </thead>\n",
       "  <tbody>\n",
       "    <tr>\n",
       "      <th>0</th>\n",
       "      <td>102001</td>\n",
       "      <td>0</td>\n",
       "      <td>United States</td>\n",
       "      <td>Country</td>\n",
       "      <td>NaN</td>\n",
       "      <td>127569.0</td>\n",
       "      <td>127914.0</td>\n",
       "      <td>128277.0</td>\n",
       "      <td>129016.0</td>\n",
       "      <td>129762.0</td>\n",
       "      <td>...</td>\n",
       "      <td>269165.0</td>\n",
       "      <td>272132.0</td>\n",
       "      <td>275247.0</td>\n",
       "      <td>278593.0</td>\n",
       "      <td>282335.0</td>\n",
       "      <td>286913.0</td>\n",
       "      <td>292304.0</td>\n",
       "      <td>298069.0</td>\n",
       "      <td>303296.0</td>\n",
       "      <td>308220.0</td>\n",
       "    </tr>\n",
       "    <tr>\n",
       "      <th>1</th>\n",
       "      <td>394913</td>\n",
       "      <td>1</td>\n",
       "      <td>New York, NY</td>\n",
       "      <td>Msa</td>\n",
       "      <td>NY</td>\n",
       "      <td>225438.0</td>\n",
       "      <td>226785.0</td>\n",
       "      <td>227997.0</td>\n",
       "      <td>230383.0</td>\n",
       "      <td>232604.0</td>\n",
       "      <td>...</td>\n",
       "      <td>514350.0</td>\n",
       "      <td>519193.0</td>\n",
       "      <td>523962.0</td>\n",
       "      <td>528241.0</td>\n",
       "      <td>532983.0</td>\n",
       "      <td>538439.0</td>\n",
       "      <td>545638.0</td>\n",
       "      <td>553551.0</td>\n",
       "      <td>561136.0</td>\n",
       "      <td>567059.0</td>\n",
       "    </tr>\n",
       "    <tr>\n",
       "      <th>2</th>\n",
       "      <td>753899</td>\n",
       "      <td>2</td>\n",
       "      <td>Los Angeles-Long Beach-Anaheim, CA</td>\n",
       "      <td>Msa</td>\n",
       "      <td>CA</td>\n",
       "      <td>231209.0</td>\n",
       "      <td>232014.0</td>\n",
       "      <td>233247.0</td>\n",
       "      <td>235592.0</td>\n",
       "      <td>238105.0</td>\n",
       "      <td>...</td>\n",
       "      <td>736123.0</td>\n",
       "      <td>741232.0</td>\n",
       "      <td>748830.0</td>\n",
       "      <td>756443.0</td>\n",
       "      <td>767598.0</td>\n",
       "      <td>783132.0</td>\n",
       "      <td>803315.0</td>\n",
       "      <td>824025.0</td>\n",
       "      <td>837548.0</td>\n",
       "      <td>846526.0</td>\n",
       "    </tr>\n",
       "    <tr>\n",
       "      <th>3</th>\n",
       "      <td>394463</td>\n",
       "      <td>3</td>\n",
       "      <td>Chicago, IL</td>\n",
       "      <td>Msa</td>\n",
       "      <td>IL</td>\n",
       "      <td>170602.0</td>\n",
       "      <td>171004.0</td>\n",
       "      <td>171525.0</td>\n",
       "      <td>172568.0</td>\n",
       "      <td>173673.0</td>\n",
       "      <td>...</td>\n",
       "      <td>257432.0</td>\n",
       "      <td>258905.0</td>\n",
       "      <td>261216.0</td>\n",
       "      <td>263319.0</td>\n",
       "      <td>266367.0</td>\n",
       "      <td>269105.0</td>\n",
       "      <td>272894.0</td>\n",
       "      <td>277086.0</td>\n",
       "      <td>281183.0</td>\n",
       "      <td>284285.0</td>\n",
       "    </tr>\n",
       "    <tr>\n",
       "      <th>4</th>\n",
       "      <td>394514</td>\n",
       "      <td>4</td>\n",
       "      <td>Dallas-Fort Worth, TX</td>\n",
       "      <td>Msa</td>\n",
       "      <td>TX</td>\n",
       "      <td>130189.0</td>\n",
       "      <td>130293.0</td>\n",
       "      <td>130379.0</td>\n",
       "      <td>130591.0</td>\n",
       "      <td>130813.0</td>\n",
       "      <td>...</td>\n",
       "      <td>274646.0</td>\n",
       "      <td>276926.0</td>\n",
       "      <td>280361.0</td>\n",
       "      <td>284368.0</td>\n",
       "      <td>289886.0</td>\n",
       "      <td>296250.0</td>\n",
       "      <td>303499.0</td>\n",
       "      <td>311268.0</td>\n",
       "      <td>319368.0</td>\n",
       "      <td>326597.0</td>\n",
       "    </tr>\n",
       "  </tbody>\n",
       "</table>\n",
       "<p>5 rows × 266 columns</p>\n",
       "</div>"
      ],
      "text/plain": [
       "   RegionID  SizeRank                          RegionName RegionType  \\\n",
       "0    102001         0                       United States    Country   \n",
       "1    394913         1                        New York, NY        Msa   \n",
       "2    753899         2  Los Angeles-Long Beach-Anaheim, CA        Msa   \n",
       "3    394463         3                         Chicago, IL        Msa   \n",
       "4    394514         4               Dallas-Fort Worth, TX        Msa   \n",
       "\n",
       "  StateName  2000-01-31  2000-02-29  2000-03-31  2000-04-30  2000-05-31  ...  \\\n",
       "0       NaN    127569.0    127914.0    128277.0    129016.0    129762.0  ...   \n",
       "1        NY    225438.0    226785.0    227997.0    230383.0    232604.0  ...   \n",
       "2        CA    231209.0    232014.0    233247.0    235592.0    238105.0  ...   \n",
       "3        IL    170602.0    171004.0    171525.0    172568.0    173673.0  ...   \n",
       "4        TX    130189.0    130293.0    130379.0    130591.0    130813.0  ...   \n",
       "\n",
       "   2020-12-31  2021-01-31  2021-02-28  2021-03-31  2021-04-30  2021-05-31  \\\n",
       "0    269165.0    272132.0    275247.0    278593.0    282335.0    286913.0   \n",
       "1    514350.0    519193.0    523962.0    528241.0    532983.0    538439.0   \n",
       "2    736123.0    741232.0    748830.0    756443.0    767598.0    783132.0   \n",
       "3    257432.0    258905.0    261216.0    263319.0    266367.0    269105.0   \n",
       "4    274646.0    276926.0    280361.0    284368.0    289886.0    296250.0   \n",
       "\n",
       "   2021-06-30  2021-07-31  2021-08-31  2021-09-30  \n",
       "0    292304.0    298069.0    303296.0    308220.0  \n",
       "1    545638.0    553551.0    561136.0    567059.0  \n",
       "2    803315.0    824025.0    837548.0    846526.0  \n",
       "3    272894.0    277086.0    281183.0    284285.0  \n",
       "4    303499.0    311268.0    319368.0    326597.0  \n",
       "\n",
       "[5 rows x 266 columns]"
      ]
     },
     "execution_count": 2,
     "metadata": {},
     "output_type": "execute_result"
    }
   ],
   "source": [
    "# Importing the data from the csv \n",
    "df = pd.read_csv('Data/zillow_metro_areas.csv')\n",
    "\n",
    "# Taking a look at the shape of the dataset\n",
    "print(df.shape)\n",
    "\n",
    "# This line will tell us how many of our rows represent metro areas\n",
    "print(df.RegionType.value_counts())\n",
    "\n",
    "# Examining the first five rows of our dataframe\n",
    "df.head()"
   ]
  },
  {
   "cell_type": "markdown",
   "id": "ba7735b3",
   "metadata": {},
   "source": [
    "So in the raw dataframe, we have 909 rows, with 266 columns. Of those 266 columns, 5 of them describe the metro area represented by each row. Columns 6 through 266 represent a time series that spans from January of 2000, to September of 2021. The values are the median home price for that metro area on that specific month. \n",
    "\n",
    "Of our 909 rows, the first is the only row that represents a region other than a metro area, it tracks the median home price for the entire US. "
   ]
  },
  {
   "cell_type": "markdown",
   "id": "ab309c85",
   "metadata": {
    "scrolled": false
   },
   "source": [
    "### 2.3 Filtering by NY\n",
    "\n",
    "Our client only operates within New York State, so we need to filter down our raw dataframe to only look at metro area where 'NY' is designated for the StateName column. "
   ]
  },
  {
   "cell_type": "code",
   "execution_count": 3,
   "id": "17af4416",
   "metadata": {
    "scrolled": false
   },
   "outputs": [
    {
     "name": "stdout",
     "output_type": "stream",
     "text": [
      "(26, 266)\n"
     ]
    },
    {
     "data": {
      "text/html": [
       "<div>\n",
       "<style scoped>\n",
       "    .dataframe tbody tr th:only-of-type {\n",
       "        vertical-align: middle;\n",
       "    }\n",
       "\n",
       "    .dataframe tbody tr th {\n",
       "        vertical-align: top;\n",
       "    }\n",
       "\n",
       "    .dataframe thead th {\n",
       "        text-align: right;\n",
       "    }\n",
       "</style>\n",
       "<table border=\"1\" class=\"dataframe\">\n",
       "  <thead>\n",
       "    <tr style=\"text-align: right;\">\n",
       "      <th></th>\n",
       "      <th>RegionID</th>\n",
       "      <th>SizeRank</th>\n",
       "      <th>RegionName</th>\n",
       "      <th>RegionType</th>\n",
       "      <th>StateName</th>\n",
       "      <th>2000-01-31</th>\n",
       "      <th>2000-02-29</th>\n",
       "      <th>2000-03-31</th>\n",
       "      <th>2000-04-30</th>\n",
       "      <th>2000-05-31</th>\n",
       "      <th>...</th>\n",
       "      <th>2020-12-31</th>\n",
       "      <th>2021-01-31</th>\n",
       "      <th>2021-02-28</th>\n",
       "      <th>2021-03-31</th>\n",
       "      <th>2021-04-30</th>\n",
       "      <th>2021-05-31</th>\n",
       "      <th>2021-06-30</th>\n",
       "      <th>2021-07-31</th>\n",
       "      <th>2021-08-31</th>\n",
       "      <th>2021-09-30</th>\n",
       "    </tr>\n",
       "  </thead>\n",
       "  <tbody>\n",
       "    <tr>\n",
       "      <th>1</th>\n",
       "      <td>394913</td>\n",
       "      <td>1</td>\n",
       "      <td>New York, NY</td>\n",
       "      <td>Msa</td>\n",
       "      <td>NY</td>\n",
       "      <td>225438.0</td>\n",
       "      <td>226785.0</td>\n",
       "      <td>227997.0</td>\n",
       "      <td>230383.0</td>\n",
       "      <td>232604.0</td>\n",
       "      <td>...</td>\n",
       "      <td>514350.0</td>\n",
       "      <td>519193.0</td>\n",
       "      <td>523962.0</td>\n",
       "      <td>528241.0</td>\n",
       "      <td>532983.0</td>\n",
       "      <td>538439.0</td>\n",
       "      <td>545638.0</td>\n",
       "      <td>553551.0</td>\n",
       "      <td>561136.0</td>\n",
       "      <td>567059.0</td>\n",
       "    </tr>\n",
       "    <tr>\n",
       "      <th>47</th>\n",
       "      <td>394425</td>\n",
       "      <td>47</td>\n",
       "      <td>Buffalo, NY</td>\n",
       "      <td>Msa</td>\n",
       "      <td>NY</td>\n",
       "      <td>93968.0</td>\n",
       "      <td>94487.0</td>\n",
       "      <td>94871.0</td>\n",
       "      <td>95602.0</td>\n",
       "      <td>96126.0</td>\n",
       "      <td>...</td>\n",
       "      <td>194644.0</td>\n",
       "      <td>197043.0</td>\n",
       "      <td>199299.0</td>\n",
       "      <td>201195.0</td>\n",
       "      <td>203599.0</td>\n",
       "      <td>NaN</td>\n",
       "      <td>214992.0</td>\n",
       "      <td>221501.0</td>\n",
       "      <td>224418.0</td>\n",
       "      <td>225838.0</td>\n",
       "    </tr>\n",
       "    <tr>\n",
       "      <th>51</th>\n",
       "      <td>395031</td>\n",
       "      <td>51</td>\n",
       "      <td>Rochester, NY</td>\n",
       "      <td>Msa</td>\n",
       "      <td>NY</td>\n",
       "      <td>100972.0</td>\n",
       "      <td>100678.0</td>\n",
       "      <td>100670.0</td>\n",
       "      <td>100915.0</td>\n",
       "      <td>101426.0</td>\n",
       "      <td>...</td>\n",
       "      <td>173209.0</td>\n",
       "      <td>174585.0</td>\n",
       "      <td>176320.0</td>\n",
       "      <td>178740.0</td>\n",
       "      <td>181365.0</td>\n",
       "      <td>184705.0</td>\n",
       "      <td>188451.0</td>\n",
       "      <td>192158.0</td>\n",
       "      <td>194050.0</td>\n",
       "      <td>194732.0</td>\n",
       "    </tr>\n",
       "    <tr>\n",
       "      <th>60</th>\n",
       "      <td>394308</td>\n",
       "      <td>60</td>\n",
       "      <td>Albany, NY</td>\n",
       "      <td>Msa</td>\n",
       "      <td>NY</td>\n",
       "      <td>108218.0</td>\n",
       "      <td>108769.0</td>\n",
       "      <td>109063.0</td>\n",
       "      <td>109786.0</td>\n",
       "      <td>110293.0</td>\n",
       "      <td>...</td>\n",
       "      <td>221148.0</td>\n",
       "      <td>223755.0</td>\n",
       "      <td>227379.0</td>\n",
       "      <td>230181.0</td>\n",
       "      <td>232777.0</td>\n",
       "      <td>234700.0</td>\n",
       "      <td>238043.0</td>\n",
       "      <td>241724.0</td>\n",
       "      <td>245616.0</td>\n",
       "      <td>248417.0</td>\n",
       "    </tr>\n",
       "    <tr>\n",
       "      <th>79</th>\n",
       "      <td>395143</td>\n",
       "      <td>79</td>\n",
       "      <td>Syracuse, NY</td>\n",
       "      <td>Msa</td>\n",
       "      <td>NY</td>\n",
       "      <td>83512.0</td>\n",
       "      <td>83785.0</td>\n",
       "      <td>84042.0</td>\n",
       "      <td>84537.0</td>\n",
       "      <td>85003.0</td>\n",
       "      <td>...</td>\n",
       "      <td>161572.0</td>\n",
       "      <td>162944.0</td>\n",
       "      <td>164817.0</td>\n",
       "      <td>165917.0</td>\n",
       "      <td>167891.0</td>\n",
       "      <td>169984.0</td>\n",
       "      <td>172904.0</td>\n",
       "      <td>175277.0</td>\n",
       "      <td>177040.0</td>\n",
       "      <td>178075.0</td>\n",
       "    </tr>\n",
       "  </tbody>\n",
       "</table>\n",
       "<p>5 rows × 266 columns</p>\n",
       "</div>"
      ],
      "text/plain": [
       "    RegionID  SizeRank     RegionName RegionType StateName  2000-01-31  \\\n",
       "1     394913         1   New York, NY        Msa        NY    225438.0   \n",
       "47    394425        47    Buffalo, NY        Msa        NY     93968.0   \n",
       "51    395031        51  Rochester, NY        Msa        NY    100972.0   \n",
       "60    394308        60     Albany, NY        Msa        NY    108218.0   \n",
       "79    395143        79   Syracuse, NY        Msa        NY     83512.0   \n",
       "\n",
       "    2000-02-29  2000-03-31  2000-04-30  2000-05-31  ...  2020-12-31  \\\n",
       "1     226785.0    227997.0    230383.0    232604.0  ...    514350.0   \n",
       "47     94487.0     94871.0     95602.0     96126.0  ...    194644.0   \n",
       "51    100678.0    100670.0    100915.0    101426.0  ...    173209.0   \n",
       "60    108769.0    109063.0    109786.0    110293.0  ...    221148.0   \n",
       "79     83785.0     84042.0     84537.0     85003.0  ...    161572.0   \n",
       "\n",
       "    2021-01-31  2021-02-28  2021-03-31  2021-04-30  2021-05-31  2021-06-30  \\\n",
       "1     519193.0    523962.0    528241.0    532983.0    538439.0    545638.0   \n",
       "47    197043.0    199299.0    201195.0    203599.0         NaN    214992.0   \n",
       "51    174585.0    176320.0    178740.0    181365.0    184705.0    188451.0   \n",
       "60    223755.0    227379.0    230181.0    232777.0    234700.0    238043.0   \n",
       "79    162944.0    164817.0    165917.0    167891.0    169984.0    172904.0   \n",
       "\n",
       "    2021-07-31  2021-08-31  2021-09-30  \n",
       "1     553551.0    561136.0    567059.0  \n",
       "47    221501.0    224418.0    225838.0  \n",
       "51    192158.0    194050.0    194732.0  \n",
       "60    241724.0    245616.0    248417.0  \n",
       "79    175277.0    177040.0    178075.0  \n",
       "\n",
       "[5 rows x 266 columns]"
      ]
     },
     "execution_count": 3,
     "metadata": {},
     "output_type": "execute_result"
    }
   ],
   "source": [
    "# Making a dataframe of just New York\n",
    "df_ny = df[df['StateName'] == 'NY']\n",
    "\n",
    "# Seeing how many rows we get \n",
    "print(df_ny.shape)\n",
    "\n",
    "# Sanity check \n",
    "df_ny.head()"
   ]
  },
  {
   "cell_type": "markdown",
   "id": "d6eec2d5",
   "metadata": {},
   "source": [
    "So after filtering our dataframe down, we are left with 26 metro areas throughout NY state. "
   ]
  },
  {
   "cell_type": "markdown",
   "id": "8f08f239",
   "metadata": {},
   "source": [
    "### 2.4 Checking for NaN values"
   ]
  },
  {
   "cell_type": "code",
   "execution_count": 4,
   "id": "e3196e64",
   "metadata": {},
   "outputs": [
    {
     "name": "stdout",
     "output_type": "stream",
     "text": [
      "There are 1 NaNs in our original dataframe\n",
      "There are 0 NaNs after using backfill\n"
     ]
    }
   ],
   "source": [
    "# Checking our dataframe for NaN values\n",
    "print(f'There are {df_ny.isna().sum().sum()} NaNs in our original dataframe')\n",
    "\n",
    "# Backfilling that single NaN\n",
    "df_ny.fillna(method='bfill', inplace=True)\n",
    "\n",
    "# Sanity check\n",
    "print(f'There are {df_ny.isna().sum().sum()} NaNs after using backfill')"
   ]
  },
  {
   "cell_type": "markdown",
   "id": "2d6bb534",
   "metadata": {},
   "source": [
    "Okay so in our entire dataframe we had a single Nan value we have to deal with, and because this is a time series, we used a backfill technique to deal with it. "
   ]
  },
  {
   "cell_type": "markdown",
   "id": "d25aae69",
   "metadata": {},
   "source": [
    "### 2.5 Price Distribution Within New York State"
   ]
  },
  {
   "cell_type": "code",
   "execution_count": 5,
   "id": "d9379c84",
   "metadata": {
    "scrolled": true
   },
   "outputs": [
    {
     "data": {
      "image/png": "[encoded data removed]",
      "text/plain": [
       "<Figure size 720x720 with 1 Axes>"
      ]
     },
     "metadata": {
      "needs_background": "light"
     },
     "output_type": "display_data"
    }
   ],
   "source": [
    "current_median_msa_home_prices = list(df_ny['2021-09-30'])\n",
    "\n",
    "fig, ax = plt.subplots(figsize=(10,10))\n",
    "plt.hist(current_median_msa_home_prices, bins=20)\n",
    "plt.title('2021 NY State Median Home Price by Metro Area')\n",
    "plt.xlabel('Median Home Price')\n",
    "plt.ylabel('Count')\n",
    "plt.show()"
   ]
  },
  {
   "cell_type": "markdown",
   "id": "d119fefe",
   "metadata": {},
   "source": [
    "Okay so we have one significant outlier, which is guaranteed to be the NYC metro area, which we confirm below. This does not however necessarily mean that NYC is the best choice for investment, as our models may predict. "
   ]
  },
  {
   "cell_type": "code",
   "execution_count": 6,
   "id": "72e2f5c3",
   "metadata": {
    "scrolled": true
   },
   "outputs": [
    {
     "data": {
      "text/plain": [
       "567059"
      ]
     },
     "execution_count": 6,
     "metadata": {},
     "output_type": "execute_result"
    }
   ],
   "source": [
    "# Checking the median home price for New York in the most recent month. \n",
    "int(df_ny[df_ny['RegionName'] == 'New York, NY']['2021-09-30'])"
   ]
  },
  {
   "cell_type": "code",
   "execution_count": 7,
   "id": "866aa09a",
   "metadata": {},
   "outputs": [
    {
     "data": {
      "text/html": [
       "<div>\n",
       "<style scoped>\n",
       "    .dataframe tbody tr th:only-of-type {\n",
       "        vertical-align: middle;\n",
       "    }\n",
       "\n",
       "    .dataframe tbody tr th {\n",
       "        vertical-align: top;\n",
       "    }\n",
       "\n",
       "    .dataframe thead th {\n",
       "        text-align: right;\n",
       "    }\n",
       "</style>\n",
       "<table border=\"1\" class=\"dataframe\">\n",
       "  <thead>\n",
       "    <tr style=\"text-align: right;\">\n",
       "      <th></th>\n",
       "      <th>RegionID</th>\n",
       "      <th>SizeRank</th>\n",
       "      <th>RegionName</th>\n",
       "      <th>RegionType</th>\n",
       "      <th>StateName</th>\n",
       "      <th>2000-01-31</th>\n",
       "      <th>2000-02-29</th>\n",
       "      <th>2000-03-31</th>\n",
       "      <th>2000-04-30</th>\n",
       "      <th>2000-05-31</th>\n",
       "      <th>...</th>\n",
       "      <th>2020-12-31</th>\n",
       "      <th>2021-01-31</th>\n",
       "      <th>2021-02-28</th>\n",
       "      <th>2021-03-31</th>\n",
       "      <th>2021-04-30</th>\n",
       "      <th>2021-05-31</th>\n",
       "      <th>2021-06-30</th>\n",
       "      <th>2021-07-31</th>\n",
       "      <th>2021-08-31</th>\n",
       "      <th>2021-09-30</th>\n",
       "    </tr>\n",
       "  </thead>\n",
       "  <tbody>\n",
       "    <tr>\n",
       "      <th>1</th>\n",
       "      <td>394913</td>\n",
       "      <td>1</td>\n",
       "      <td>New York, NY</td>\n",
       "      <td>Msa</td>\n",
       "      <td>NY</td>\n",
       "      <td>225438.0</td>\n",
       "      <td>226785.0</td>\n",
       "      <td>227997.0</td>\n",
       "      <td>230383.0</td>\n",
       "      <td>232604.0</td>\n",
       "      <td>...</td>\n",
       "      <td>514350.0</td>\n",
       "      <td>519193.0</td>\n",
       "      <td>523962.0</td>\n",
       "      <td>528241.0</td>\n",
       "      <td>532983.0</td>\n",
       "      <td>538439.0</td>\n",
       "      <td>545638.0</td>\n",
       "      <td>553551.0</td>\n",
       "      <td>561136.0</td>\n",
       "      <td>567059.0</td>\n",
       "    </tr>\n",
       "    <tr>\n",
       "      <th>47</th>\n",
       "      <td>394425</td>\n",
       "      <td>47</td>\n",
       "      <td>Buffalo, NY</td>\n",
       "      <td>Msa</td>\n",
       "      <td>NY</td>\n",
       "      <td>93968.0</td>\n",
       "      <td>94487.0</td>\n",
       "      <td>94871.0</td>\n",
       "      <td>95602.0</td>\n",
       "      <td>96126.0</td>\n",
       "      <td>...</td>\n",
       "      <td>194644.0</td>\n",
       "      <td>197043.0</td>\n",
       "      <td>199299.0</td>\n",
       "      <td>201195.0</td>\n",
       "      <td>203599.0</td>\n",
       "      <td>184705.0</td>\n",
       "      <td>214992.0</td>\n",
       "      <td>221501.0</td>\n",
       "      <td>224418.0</td>\n",
       "      <td>225838.0</td>\n",
       "    </tr>\n",
       "    <tr>\n",
       "      <th>51</th>\n",
       "      <td>395031</td>\n",
       "      <td>51</td>\n",
       "      <td>Rochester, NY</td>\n",
       "      <td>Msa</td>\n",
       "      <td>NY</td>\n",
       "      <td>100972.0</td>\n",
       "      <td>100678.0</td>\n",
       "      <td>100670.0</td>\n",
       "      <td>100915.0</td>\n",
       "      <td>101426.0</td>\n",
       "      <td>...</td>\n",
       "      <td>173209.0</td>\n",
       "      <td>174585.0</td>\n",
       "      <td>176320.0</td>\n",
       "      <td>178740.0</td>\n",
       "      <td>181365.0</td>\n",
       "      <td>184705.0</td>\n",
       "      <td>188451.0</td>\n",
       "      <td>192158.0</td>\n",
       "      <td>194050.0</td>\n",
       "      <td>194732.0</td>\n",
       "    </tr>\n",
       "    <tr>\n",
       "      <th>60</th>\n",
       "      <td>394308</td>\n",
       "      <td>60</td>\n",
       "      <td>Albany, NY</td>\n",
       "      <td>Msa</td>\n",
       "      <td>NY</td>\n",
       "      <td>108218.0</td>\n",
       "      <td>108769.0</td>\n",
       "      <td>109063.0</td>\n",
       "      <td>109786.0</td>\n",
       "      <td>110293.0</td>\n",
       "      <td>...</td>\n",
       "      <td>221148.0</td>\n",
       "      <td>223755.0</td>\n",
       "      <td>227379.0</td>\n",
       "      <td>230181.0</td>\n",
       "      <td>232777.0</td>\n",
       "      <td>234700.0</td>\n",
       "      <td>238043.0</td>\n",
       "      <td>241724.0</td>\n",
       "      <td>245616.0</td>\n",
       "      <td>248417.0</td>\n",
       "    </tr>\n",
       "    <tr>\n",
       "      <th>79</th>\n",
       "      <td>395143</td>\n",
       "      <td>79</td>\n",
       "      <td>Syracuse, NY</td>\n",
       "      <td>Msa</td>\n",
       "      <td>NY</td>\n",
       "      <td>83512.0</td>\n",
       "      <td>83785.0</td>\n",
       "      <td>84042.0</td>\n",
       "      <td>84537.0</td>\n",
       "      <td>85003.0</td>\n",
       "      <td>...</td>\n",
       "      <td>161572.0</td>\n",
       "      <td>162944.0</td>\n",
       "      <td>164817.0</td>\n",
       "      <td>165917.0</td>\n",
       "      <td>167891.0</td>\n",
       "      <td>169984.0</td>\n",
       "      <td>172904.0</td>\n",
       "      <td>175277.0</td>\n",
       "      <td>177040.0</td>\n",
       "      <td>178075.0</td>\n",
       "    </tr>\n",
       "  </tbody>\n",
       "</table>\n",
       "<p>5 rows × 266 columns</p>\n",
       "</div>"
      ],
      "text/plain": [
       "    RegionID  SizeRank     RegionName RegionType StateName  2000-01-31  \\\n",
       "1     394913         1   New York, NY        Msa        NY    225438.0   \n",
       "47    394425        47    Buffalo, NY        Msa        NY     93968.0   \n",
       "51    395031        51  Rochester, NY        Msa        NY    100972.0   \n",
       "60    394308        60     Albany, NY        Msa        NY    108218.0   \n",
       "79    395143        79   Syracuse, NY        Msa        NY     83512.0   \n",
       "\n",
       "    2000-02-29  2000-03-31  2000-04-30  2000-05-31  ...  2020-12-31  \\\n",
       "1     226785.0    227997.0    230383.0    232604.0  ...    514350.0   \n",
       "47     94487.0     94871.0     95602.0     96126.0  ...    194644.0   \n",
       "51    100678.0    100670.0    100915.0    101426.0  ...    173209.0   \n",
       "60    108769.0    109063.0    109786.0    110293.0  ...    221148.0   \n",
       "79     83785.0     84042.0     84537.0     85003.0  ...    161572.0   \n",
       "\n",
       "    2021-01-31  2021-02-28  2021-03-31  2021-04-30  2021-05-31  2021-06-30  \\\n",
       "1     519193.0    523962.0    528241.0    532983.0    538439.0    545638.0   \n",
       "47    197043.0    199299.0    201195.0    203599.0    184705.0    214992.0   \n",
       "51    174585.0    176320.0    178740.0    181365.0    184705.0    188451.0   \n",
       "60    223755.0    227379.0    230181.0    232777.0    234700.0    238043.0   \n",
       "79    162944.0    164817.0    165917.0    167891.0    169984.0    172904.0   \n",
       "\n",
       "    2021-07-31  2021-08-31  2021-09-30  \n",
       "1     553551.0    561136.0    567059.0  \n",
       "47    221501.0    224418.0    225838.0  \n",
       "51    192158.0    194050.0    194732.0  \n",
       "60    241724.0    245616.0    248417.0  \n",
       "79    175277.0    177040.0    178075.0  \n",
       "\n",
       "[5 rows x 266 columns]"
      ]
     },
     "execution_count": 7,
     "metadata": {},
     "output_type": "execute_result"
    }
   ],
   "source": [
    "df_ny.head()"
   ]
  },
  {
   "cell_type": "markdown",
   "id": "c9d1c635",
   "metadata": {},
   "source": [
    "### 2.5 Melt Data Function "
   ]
  },
  {
   "cell_type": "code",
   "execution_count": 8,
   "id": "aeceabf3",
   "metadata": {},
   "outputs": [],
   "source": [
    "# This function was provided for us with the dataset at the beginning of this project\n",
    "def melt_data(df):\n",
    "    \"\"\"\n",
    "    Takes the zillow_data dataset in wide form or a subset of the zillow_dataset.  \n",
    "    Returns a long-form datetime dataframe \n",
    "    with the datetime column names as the index and the values as the 'values' column.\n",
    "    \n",
    "    If more than one row is passes in the wide-form dataset, the values column\n",
    "    will be the mean of the values from the datetime columns in all of the rows.\n",
    "    \"\"\"\n",
    "    melted = pd.melt(df, id_vars=['RegionID', 'SizeRank', 'RegionName', 'RegionType', 'StateName'], var_name='time')\n",
    "    melted['time'] = pd.to_datetime(melted['time'], infer_datetime_format=True)\n",
    "    melted = melted.dropna(subset=['value'])\n",
    "    return melted.groupby('time').aggregate({'value':'mean'})"
   ]
  },
  {
   "cell_type": "code",
   "execution_count": 9,
   "id": "ac0f098a",
   "metadata": {
    "scrolled": true
   },
   "outputs": [
    {
     "data": {
      "image/png": "[encoded data removed]",
      "text/plain": [
       "<Figure size 504x504 with 1 Axes>"
      ]
     },
     "metadata": {
      "needs_background": "light"
     },
     "output_type": "display_data"
    }
   ],
   "source": [
    "# Melting the New York dataframe\n",
    "df_ny_melted = melt_data(df_ny)\n",
    "\n",
    "# Plotting the average time series for all of NY state\n",
    "fig, ax = plt.subplots(figsize=(7,7))\n",
    "plt.plot(df_ny_melted)\n",
    "plt.title('Averaged Median Home Prices in NY State from 2000 - 2021')\n",
    "plt.xlabel('Year')\n",
    "plt.ylabel('Averaged Median Home Price');"
   ]
  },
  {
   "cell_type": "markdown",
   "id": "b95fe38e",
   "metadata": {},
   "source": [
    "## 3. Modeling "
   ]
  },
  {
   "cell_type": "code",
   "execution_count": 10,
   "id": "13b1e0ef",
   "metadata": {},
   "outputs": [],
   "source": [
    "def melt_row(i):\n",
    "    \n",
    "    '''This function will take in any row of our dataframe, designated by the argument i, and\n",
    "       return the name of the row, as well as the melted version of the row.'''\n",
    "    \n",
    "    row = df_ny.iloc[i:i+1]\n",
    "    row_name = list(row.iloc[:, 2])[0]\n",
    "    row_melted = melt_data(row)\n",
    "    return row_name, row_melted"
   ]
  },
  {
   "cell_type": "code",
   "execution_count": 11,
   "id": "4d346d18",
   "metadata": {},
   "outputs": [],
   "source": [
    "# def test_stationarity(series_i):\n",
    "#     test_results = adfuller(series_i)\n",
    "#     return test_results[0]\n",
    "    "
   ]
  },
  {
   "cell_type": "code",
   "execution_count": 12,
   "id": "f0d3dc30",
   "metadata": {},
   "outputs": [],
   "source": [
    "def detrend(series_i):\n",
    "    log_transformed = np.log(series_i)\n",
    "    detrended = log_transformed.dropna()\n",
    "    return detrended"
   ]
  },
  {
   "cell_type": "code",
   "execution_count": 13,
   "id": "bff6d206",
   "metadata": {},
   "outputs": [],
   "source": [
    "def run_auto_arima(series_i):\n",
    "    \n",
    "    gridsearch = auto_arima(series_i,\n",
    "                            start_p = 0,\n",
    "                            max_p = 3,\n",
    "                            d = 0, \n",
    "                            max_d = 3, \n",
    "                            start_q = 0,\n",
    "                            max_q = 3,\n",
    "                            seasonal=True,\n",
    "                            m = 12,\n",
    "                            suppress_warnings=True)\n",
    "    \n",
    "    model = ARIMA(series_i, \n",
    "                    order = gridsearch.order, \n",
    "                    seasonal_order = gridsearch.seasonal_order,\n",
    "                    enforce_stationarity=False)\n",
    "    print(gridsearch.order, gridsearch.seasonal_order)\n",
    "    return model.fit()\n",
    "    \n",
    "    "
   ]
  },
  {
   "cell_type": "code",
   "execution_count": 14,
   "id": "5e54279c",
   "metadata": {},
   "outputs": [],
   "source": [
    "def make_prediction(model, start, end):\n",
    "    prediction = model.predict(start, end)\n",
    "    return prediction"
   ]
  },
  {
   "cell_type": "code",
   "execution_count": 15,
   "id": "725a594f",
   "metadata": {},
   "outputs": [],
   "source": [
    "test_row_name, test_row_series = melt_row(5)"
   ]
  },
  {
   "cell_type": "code",
   "execution_count": 16,
   "id": "394a76b0",
   "metadata": {},
   "outputs": [],
   "source": [
    "test_row_series_log = detrend(test_row_series)"
   ]
  },
  {
   "cell_type": "code",
   "execution_count": 17,
   "id": "4beb58c5",
   "metadata": {
    "scrolled": true
   },
   "outputs": [],
   "source": [
    "# test_row_series_log.plot()"
   ]
  },
  {
   "cell_type": "code",
   "execution_count": 18,
   "id": "22d65ae4",
   "metadata": {},
   "outputs": [
    {
     "name": "stdout",
     "output_type": "stream",
     "text": [
      "(2, 0, 3) (1, 0, 0, 12)\n"
     ]
    }
   ],
   "source": [
    "test_model = run_auto_arima(test_row_series_log)"
   ]
  },
  {
   "cell_type": "code",
   "execution_count": 19,
   "id": "0ee8a28b",
   "metadata": {},
   "outputs": [
    {
     "data": {
      "image/png": "[encoded data removed]",
      "text/plain": [
       "<Figure size 1080x1296 with 4 Axes>"
      ]
     },
     "metadata": {
      "needs_background": "light"
     },
     "output_type": "display_data"
    }
   ],
   "source": [
    "test_model.plot_diagnostics(figsize=(15,18));"
   ]
  },
  {
   "cell_type": "code",
   "execution_count": 20,
   "id": "0dda733c",
   "metadata": {},
   "outputs": [],
   "source": [
    "# test_prediction = make_prediction(test_model, '2021-09-30', '2025-09-30')"
   ]
  },
  {
   "cell_type": "code",
   "execution_count": null,
   "id": "31252d69",
   "metadata": {},
   "outputs": [],
   "source": []
  },
  {
   "cell_type": "code",
   "execution_count": 21,
   "id": "d6e28082",
   "metadata": {
    "scrolled": true
   },
   "outputs": [],
   "source": [
    "# fig, ax = plt.subplots(figsize=(15, 7))\n",
    "# plt.plot(test_row_series, test_prediction)"
   ]
  },
  {
   "cell_type": "code",
   "execution_count": 22,
   "id": "ec06c539",
   "metadata": {},
   "outputs": [],
   "source": [
    "# five_year_forecast = test_output.predict('2018-04', '2023-04')\n",
    "\n",
    "# two_thousands = test_melted['2000-01-01': '2018-04']\n",
    "\n",
    "# fig, ax = plt.subplots(figsize=(20,10))\n",
    "\n",
    "# plt.plot(five_year_forecast)\n",
    "# plt.plot(two_thousands)"
   ]
  },
  {
   "cell_type": "code",
   "execution_count": null,
   "id": "d8c5d816",
   "metadata": {},
   "outputs": [],
   "source": []
  },
  {
   "cell_type": "code",
   "execution_count": null,
   "id": "fde56957",
   "metadata": {},
   "outputs": [],
   "source": []
  },
  {
   "cell_type": "code",
   "execution_count": null,
   "id": "6d3c7da4",
   "metadata": {},
   "outputs": [],
   "source": []
  },
  {
   "cell_type": "code",
   "execution_count": null,
   "id": "97443088",
   "metadata": {},
   "outputs": [],
   "source": []
  },
  {
   "cell_type": "code",
   "execution_count": null,
   "id": "5dff700a",
   "metadata": {},
   "outputs": [],
   "source": []
  },
  {
   "cell_type": "code",
   "execution_count": null,
   "id": "b4de524a",
   "metadata": {},
   "outputs": [],
   "source": []
  },
  {
   "cell_type": "code",
   "execution_count": null,
   "id": "baee087a",
   "metadata": {},
   "outputs": [],
   "source": []
  },
  {
   "cell_type": "code",
   "execution_count": null,
   "id": "86985bc4",
   "metadata": {},
   "outputs": [],
   "source": []
  }
 ],
 "metadata": {
  "kernelspec": {
   "display_name": "Python 3 (ipykernel)",
   "language": "python",
   "name": "python3"
  },
  "language_info": {
   "codemirror_mode": {
    "name": "ipython",
    "version": 3
   },
   "file_extension": ".py",
   "mimetype": "text/x-python",
   "name": "python",
   "nbconvert_exporter": "python",
   "pygments_lexer": "ipython3",
   "version": "3.9.7"
  }
 },
 "nbformat": 4,
 "nbformat_minor": 5
}
